{
 "cells": [
  {
   "cell_type": "markdown",
   "metadata": {
    "id": "K8PRVWSH0rSN"
   },
   "source": [
    "#Loan Prediction"
   ]
  },
  {
   "cell_type": "markdown",
   "metadata": {
    "id": "Z24GNVSX0ufJ"
   },
   "source": [
    "The loan approval dataset is a collection of financial records and associated information used to determine the eligibility of individuals or organizations for obtaining loans from a lending institution. It includes various factors such as cibil score, income, employment status, loan term, loan amount, assets value, and loan status. This dataset is commonly used in machine learning and data analysis to develop models and algorithms that predict the likelihood of loan approval based on the given features."
   ]
  },
  {
   "cell_type": "markdown",
   "metadata": {
    "id": "Tavr2AQ80obH"
   },
   "source": [
    "##Importing the libraries"
   ]
  },
  {
   "cell_type": "code",
   "execution_count": null,
   "metadata": {},
   "outputs": [],
   "source": []
  },
  {
   "cell_type": "code",
   "execution_count": null,
   "metadata": {
    "id": "P43RkgXQxbE0"
   },
   "outputs": [],
   "source": [
    "import numpy as np\n",
    "import pandas as pd\n",
    "import matplotlib.pyplot as plt\n",
    "import seaborn as sns\n",
    "sns.set_palette(palette='viridis')\n",
    "sns.set_style('whitegrid')\n",
    "from sklearn.preprocessing import RobustScaler, OneHotEncoder, LabelEncoder\n",
    "from sklearn.pipeline import Pipeline\n",
    "from sklearn.model_selection import train_test_split\n",
    "from sklearn.ensemble import RandomForestClassifier\n",
    "from sklearn.linear_model import LogisticRegression\n",
    "from sklearn.compose import ColumnTransformer\n",
    "from sklearn.metrics import classification_report, confusion_matrix"
   ]
  },
  {
   "cell_type": "code",
   "execution_count": null,
   "metadata": {
    "colab": {
     "base_uri": "https://localhost:8080/",
     "height": 261
    },
    "id": "Vc8jpObDD9bI",
    "outputId": "ba1318af-76ac-40fd-86ab-7395f5fac377"
   },
   "outputs": [],
   "source": [
    "df = pd.read_csv('loan_approval_dataset.csv')\n",
    "df.head()"
   ]
  },
  {
   "cell_type": "code",
   "execution_count": null,
   "metadata": {
    "colab": {
     "base_uri": "https://localhost:8080/"
    },
    "id": "JPNodCYfH4xs",
    "outputId": "20a4bccd-9e04-46a5-a5f8-d765c5a7730a"
   },
   "outputs": [],
   "source": [
    "df.shape"
   ]
  },
  {
   "cell_type": "markdown",
   "metadata": {
    "id": "3zH7rbEd0axs"
   },
   "source": [
    "##Data Cleaning"
   ]
  },
  {
   "cell_type": "code",
   "execution_count": null,
   "metadata": {
    "colab": {
     "base_uri": "https://localhost:8080/",
     "height": 492
    },
    "id": "N68oBatr0ZjK",
    "outputId": "2e0462d7-c9a4-469e-bb02-015f50b8cbc6"
   },
   "outputs": [],
   "source": [
    "df.isna().sum()"
   ]
  },
  {
   "cell_type": "code",
   "execution_count": null,
   "metadata": {
    "colab": {
     "base_uri": "https://localhost:8080/"
    },
    "id": "uoy0Rwf-1GCa",
    "outputId": "699a6253-938a-4ff9-806d-49315c0e39a0"
   },
   "outputs": [],
   "source": [
    "df.duplicated().sum()"
   ]
  },
  {
   "cell_type": "code",
   "execution_count": null,
   "metadata": {
    "colab": {
     "base_uri": "https://localhost:8080/"
    },
    "id": "cAgZT_WD1JYR",
    "outputId": "f4d7e11b-5e95-48cf-85ef-c3eb5e47a08f"
   },
   "outputs": [],
   "source": [
    "df.columns"
   ]
  },
  {
   "cell_type": "code",
   "execution_count": null,
   "metadata": {
    "colab": {
     "base_uri": "https://localhost:8080/",
     "height": 492
    },
    "id": "3nQOifCk1ulx",
    "outputId": "522d8555-ed29-4de2-fa1d-d5fb4abe0dc5"
   },
   "outputs": [],
   "source": [
    "df.dtypes"
   ]
  },
  {
   "cell_type": "code",
   "execution_count": null,
   "metadata": {
    "id": "X3JRJPjEaHr3"
   },
   "outputs": [],
   "source": [
    "df = df.drop('loan_id', axis=1)"
   ]
  },
  {
   "cell_type": "markdown",
   "metadata": {
    "id": "UWGDCYeC1bLO"
   },
   "source": [
    "##Exploratory Data Analysis"
   ]
  },
  {
   "cell_type": "code",
   "execution_count": null,
   "metadata": {
    "colab": {
     "base_uri": "https://localhost:8080/"
    },
    "id": "SiPv9Muh1nN0",
    "outputId": "bbb8ed95-3992-4400-e5e8-684b8f932eab"
   },
   "outputs": [],
   "source": [
    "df.info()"
   ]
  },
  {
   "cell_type": "code",
   "execution_count": null,
   "metadata": {
    "colab": {
     "base_uri": "https://localhost:8080/",
     "height": 320
    },
    "id": "9o3cDt2x1Uey",
    "outputId": "98588a63-9c76-4c16-bc93-2e53b2c67667"
   },
   "outputs": [],
   "source": [
    "df.describe()"
   ]
  },
  {
   "cell_type": "code",
   "execution_count": null,
   "metadata": {
    "id": "EOr_Wg9P1kaA"
   },
   "outputs": [],
   "source": [
    "df.columns = ['no_of_dependents', 'education', 'self_employed',\n",
    "       'income_annum', 'loan_amount', 'loan_term', 'cibil_score',\n",
    "       'residential_assets_value', 'commercial_assets_value',\n",
    "       'luxury_assets_value', 'bank_asset_value', 'loan_status']\n"
   ]
  },
  {
   "cell_type": "code",
   "execution_count": null,
   "metadata": {
    "colab": {
     "base_uri": "https://localhost:8080/"
    },
    "id": "B0FrhY39_Cj6",
    "outputId": "83c4b03b-4990-4919-87a7-5ab395f8555f"
   },
   "outputs": [],
   "source": [
    "df.columns"
   ]
  },
  {
   "cell_type": "code",
   "execution_count": null,
   "metadata": {
    "colab": {
     "base_uri": "https://localhost:8080/",
     "height": 304
    },
    "id": "BOai9Wod_dDL",
    "outputId": "a88792e3-929d-44e5-8607-3c722c5efc1b"
   },
   "outputs": [],
   "source": [
    "df['no_of_dependents'].value_counts()"
   ]
  },
  {
   "cell_type": "code",
   "execution_count": null,
   "metadata": {
    "colab": {
     "base_uri": "https://localhost:8080/",
     "height": 178
    },
    "id": "4h6cxbCK_k5w",
    "outputId": "9d9ef890-8721-412e-cd52-e64381eb8fc6"
   },
   "outputs": [],
   "source": [
    "df['education'].value_counts()"
   ]
  },
  {
   "cell_type": "code",
   "execution_count": null,
   "metadata": {
    "colab": {
     "base_uri": "https://localhost:8080/",
     "height": 178
    },
    "id": "afVCFDrS_udO",
    "outputId": "1128c068-907e-410b-8ee3-42cd6efd6558"
   },
   "outputs": [],
   "source": [
    "df['self_employed'].value_counts()"
   ]
  },
  {
   "cell_type": "code",
   "execution_count": null,
   "metadata": {
    "colab": {
     "base_uri": "https://localhost:8080/",
     "height": 429
    },
    "id": "jtfdMqVd_zVS",
    "outputId": "83553ea8-baeb-441e-fa6c-22a7bed11e97"
   },
   "outputs": [],
   "source": [
    "df['loan_term'].value_counts()"
   ]
  },
  {
   "cell_type": "code",
   "execution_count": null,
   "metadata": {
    "colab": {
     "base_uri": "https://localhost:8080/",
     "height": 178
    },
    "id": "pHAK-j8RAFKH",
    "outputId": "0db651e0-d314-4876-b0b9-d386ebc1189a"
   },
   "outputs": [],
   "source": [
    "df['loan_status'].value_counts()"
   ]
  },
  {
   "cell_type": "code",
   "execution_count": null,
   "metadata": {
    "id": "8Mm4GCM-SDVz"
   },
   "outputs": [],
   "source": [
    "categorical_cols = ['no_of_dependents', 'education', 'self_employed', 'loan_status']\n",
    "\n",
    "numerical_cols = ['income_annum', 'loan_amount', 'loan_term', 'cibil_score',\n",
    "       'residential_assets_value', 'commercial_assets_value',\n",
    "       'luxury_assets_value', 'bank_asset_value']"
   ]
  },
  {
   "cell_type": "markdown",
   "metadata": {
    "id": "EH8yVWWIAfKm"
   },
   "source": [
    "###Univariate Analysis"
   ]
  },
  {
   "cell_type": "code",
   "execution_count": null,
   "metadata": {
    "colab": {
     "base_uri": "https://localhost:8080/",
     "height": 954
    },
    "id": "LciDGHpuJjZb",
    "outputId": "114a39bd-ea2e-42be-f031-a38330271348"
   },
   "outputs": [],
   "source": [
    "def univariate_categorical(ax, df, col):\n",
    "  sns.countplot(x=df[col], data=df, ax=ax)\n",
    "  ax.set_title(f'Count of {col}')\n",
    "  ax.set_xlabel(f'{col}')\n",
    "  ax.set_ylabel('count')\n",
    "\n",
    "\n",
    "fig, axes = plt.subplots(2, 2, figsize=(14,10))\n",
    "axes = axes.flatten()\n",
    "\n",
    "for i, col in enumerate(categorical_cols):\n",
    "  univariate_categorical(axes[i], df, col)\n",
    "\n",
    "plt.tight_layout()\n",
    "plt.show()"
   ]
  },
  {
   "cell_type": "code",
   "execution_count": null,
   "metadata": {
    "colab": {
     "base_uri": "https://localhost:8080/",
     "height": 1000
    },
    "id": "X8onBYDlNgXi",
    "outputId": "56b43ad4-830d-4b92-97f8-bce5544f6e54"
   },
   "outputs": [],
   "source": [
    "def univariate_numerical(ax, df, col):\n",
    "  sns.histplot(x=df[col], data=df, kde=True, ax=ax)\n",
    "  ax.set_title(f'Distribution of {col}')\n",
    "  ax.set_xlabel(f'{col}')\n",
    "  ax.set_ylabel('Frequency')\n",
    "\n",
    "fig, axes = plt.subplots(4, 2, figsize=(14,20))\n",
    "axes = axes.flatten()\n",
    "\n",
    "for i, col in enumerate(numerical_cols):\n",
    "  univariate_numerical(axes[i], df, col)\n",
    "\n",
    "plt.tight_layout()\n",
    "plt.show()"
   ]
  },
  {
   "cell_type": "markdown",
   "metadata": {
    "id": "aC5asqmsQFXJ"
   },
   "source": [
    "###Bivariate Analysis"
   ]
  },
  {
   "cell_type": "code",
   "execution_count": null,
   "metadata": {
    "colab": {
     "base_uri": "https://localhost:8080/",
     "height": 0
    },
    "id": "j-2Z6akmIvcI",
    "outputId": "546e82ec-8195-4ffd-8f30-23482588c826"
   },
   "outputs": [],
   "source": [
    "def bivariate_categorical(ax, df, col):\n",
    "  sns.countplot(hue=df['loan_status'], x=df[col], data=df, ax=ax)\n",
    "  ax.set_title(f'{col} vs Loan Status')\n",
    "  ax.set_xlabel('Loan Status')\n",
    "  ax.set_ylabel(f'{col}')\n",
    "\n",
    "fig, axes = plt.subplots(2, 2, figsize=(14,10))\n",
    "axes = axes.flatten()\n",
    "\n",
    "for i, col in enumerate(categorical_cols):\n",
    "  bivariate_categorical(axes[i], df, col)\n",
    "\n",
    "plt.tight_layout()\n",
    "plt.show()"
   ]
  },
  {
   "cell_type": "code",
   "execution_count": null,
   "metadata": {
    "colab": {
     "base_uri": "https://localhost:8080/",
     "height": 0
    },
    "id": "YqjTX2WhP28e",
    "outputId": "4a51fcca-676d-4c07-8250-0c77a6bc0685"
   },
   "outputs": [],
   "source": [
    "def bivariate_numerical(ax, df, col):\n",
    "  sns.boxplot(x=df['loan_status'], y=df[col], data=df, ax=ax)\n",
    "  ax.set_title(f'{col} vs Loan Status')\n",
    "  ax.set_xlabel('Loan Status')\n",
    "  ax.set_ylabel(f'{col}')\n",
    "\n",
    "fig, axes = plt.subplots(4, 2, figsize=(14,20))\n",
    "axes = axes.flatten()\n",
    "\n",
    "for i, col in enumerate(numerical_cols):\n",
    "  bivariate_numerical(axes[i], df, col)\n",
    "\n",
    "plt.tight_layout()\n",
    "plt.show()"
   ]
  },
  {
   "cell_type": "markdown",
   "metadata": {
    "id": "FTTmVZ2-fZ5f"
   },
   "source": [
    "##Train-Test-Split"
   ]
  },
  {
   "cell_type": "code",
   "execution_count": null,
   "metadata": {
    "id": "AzCZ9fMtfmvJ"
   },
   "outputs": [],
   "source": [
    "le = LabelEncoder()\n",
    "y = le.fit_transform(df['loan_status'])\n",
    "X = df.drop('loan_status', axis=1)"
   ]
  },
  {
   "cell_type": "code",
   "execution_count": null,
   "metadata": {
    "id": "c4c5tU8Rfo4d"
   },
   "outputs": [],
   "source": [
    "X_train, X_test, y_train, y_test = train_test_split(X, y, test_size=0.2, random_state=42)"
   ]
  },
  {
   "cell_type": "markdown",
   "metadata": {
    "id": "Y1YYVEpjWmVK"
   },
   "source": [
    "##Preprocessing"
   ]
  },
  {
   "cell_type": "markdown",
   "metadata": {
    "id": "PVmxBczwcYLK"
   },
   "source": [
    "scaling, encoding"
   ]
  },
  {
   "cell_type": "code",
   "execution_count": null,
   "metadata": {
    "colab": {
     "base_uri": "https://localhost:8080/"
    },
    "id": "Vj3ms-vHijXO",
    "outputId": "c9571160-7d38-4a4b-9141-abe760962cf2"
   },
   "outputs": [],
   "source": [
    "X_train.columns"
   ]
  },
  {
   "cell_type": "code",
   "execution_count": null,
   "metadata": {
    "colab": {
     "base_uri": "https://localhost:8080/"
    },
    "id": "_-TwfkxNim4c",
    "outputId": "360dd69b-cfc1-4837-fefc-d0df52f6b3a9"
   },
   "outputs": [],
   "source": [
    "print(numerical_cols)"
   ]
  },
  {
   "cell_type": "code",
   "execution_count": null,
   "metadata": {
    "id": "uE_4vqQGg433"
   },
   "outputs": [],
   "source": [
    "num_features = ['no_of_dependents', 'income_annum', 'loan_amount', 'loan_term', 'cibil_score',\n",
    "                'residential_assets_value', 'commercial_assets_value',\n",
    "                'luxury_assets_value', 'bank_asset_value']\n",
    "\n",
    "cat_features = ['education', 'self_employed']"
   ]
  },
  {
   "cell_type": "code",
   "execution_count": null,
   "metadata": {
    "id": "s6KMF6PbguhK"
   },
   "outputs": [],
   "source": [
    "preprocessor = ColumnTransformer(\n",
    "    transformers=[\n",
    "        ('Scaling', RobustScaler(), num_features),\n",
    "        ('Encoding', OneHotEncoder(), cat_features)\n",
    "    ]\n",
    ")"
   ]
  },
  {
   "cell_type": "markdown",
   "metadata": {
    "id": "aqk--mkblNF8"
   },
   "source": [
    "##Training and Evaluation"
   ]
  },
  {
   "cell_type": "code",
   "execution_count": null,
   "metadata": {
    "id": "ADckqSJ_jJeT"
   },
   "outputs": [],
   "source": [
    "rf = Pipeline(steps=[\n",
    "    ('preprocessor', preprocessor),\n",
    "    ('RandomForest', RandomForestClassifier(max_depth=None, n_estimators=100))\n",
    "])\n",
    "\n",
    "rf.fit(X_train, y_train)\n",
    "y_pred_rf = rf.predict(X_test)"
   ]
  },
  {
   "cell_type": "code",
   "execution_count": null,
   "metadata": {
    "id": "2J2qulP2k1P6"
   },
   "outputs": [],
   "source": [
    "lr = Pipeline(steps=[\n",
    "    ('preprocessor', preprocessor),\n",
    "    ('LogisticRegression', LogisticRegression())\n",
    "])\n",
    "\n",
    "lr.fit(X_train, y_train)\n",
    "y_pred_lr = lr.predict(X_test)"
   ]
  },
  {
   "cell_type": "code",
   "execution_count": null,
   "metadata": {
    "colab": {
     "base_uri": "https://localhost:8080/",
     "height": 659
    },
    "id": "XepkD-ztlCkL",
    "outputId": "3722b777-e968-4c7e-a294-f853d472688d"
   },
   "outputs": [],
   "source": [
    "print(\"Classification report of Random Forest: \\n\", classification_report(y_test, y_pred_rf))\n",
    "print(\"Confusion matrix of Random Forest: \\n\")\n",
    "cm_rf = confusion_matrix(y_test, y_pred_rf)\n",
    "plt.figure(figsize=(7,5))\n",
    "sns.heatmap(cm_rf, annot=True, fmt='d', yticklabels=['Approved', 'Not Approved'], xticklabels=['Not Approved', 'Approved'])\n",
    "plt.show()"
   ]
  },
  {
   "cell_type": "code",
   "execution_count": null,
   "metadata": {
    "colab": {
     "base_uri": "https://localhost:8080/",
     "height": 659
    },
    "id": "oyMxZ6uOlxMT",
    "outputId": "fc4c2df0-9136-4403-a5fe-f332d22f58aa"
   },
   "outputs": [],
   "source": [
    "print(\"Classification report of Logistic Regression: \\n\", classification_report(y_test, y_pred_lr))\n",
    "print(\"Confusion matrix of Logistic Regression: \\n\")\n",
    "cm_lr = confusion_matrix(y_test, y_pred_lr)\n",
    "plt.figure(figsize=(7,5))\n",
    "sns.heatmap(cm_lr, annot=True, fmt='d', yticklabels=['Approved', 'Not Approved'], xticklabels=['Not Approved', 'Approved'])\n",
    "plt.show()"
   ]
  },
  {
   "cell_type": "code",
   "execution_count": null,
   "metadata": {
    "id": "pWmuo31Zl_M8"
   },
   "outputs": [],
   "source": [
    "import joblib\n",
    "\n",
    "filename = \"rf_pipeline.pkl\"\n",
    "joblib.dump(rf, open(filename, \"wb\"))"
   ]
  },
  {
   "cell_type": "code",
   "execution_count": null,
   "metadata": {
    "colab": {
     "base_uri": "https://localhost:8080/"
    },
    "id": "7ae80c4d",
    "outputId": "6b12fc65-1780-4f11-b59c-a27a96edec95"
   },
   "outputs": [],
   "source": [
    "import sklearn\n",
    "print(sklearn.__version__)"
   ]
  },
  {
   "cell_type": "code",
   "execution_count": null,
   "metadata": {
    "colab": {
     "base_uri": "https://localhost:8080/"
    },
    "id": "3b5f56ba",
    "outputId": "d2091365-1703-4445-e765-60a40cdebac6"
   },
   "outputs": [],
   "source": [
    "print(le.classes_)"
   ]
  },
  {
   "cell_type": "code",
   "execution_count": null,
   "metadata": {},
   "outputs": [],
   "source": []
  }
 ],
 "metadata": {
  "colab": {
   "provenance": []
  },
  "kernelspec": {
   "display_name": "mlenv",
   "language": "python",
   "name": "mlenv"
  },
  "language_info": {
   "codemirror_mode": {
    "name": "ipython",
    "version": 3
   },
   "file_extension": ".py",
   "mimetype": "text/x-python",
   "name": "python",
   "nbconvert_exporter": "python",
   "pygments_lexer": "ipython3",
   "version": "3.13.7"
  }
 },
 "nbformat": 4,
 "nbformat_minor": 4
}
